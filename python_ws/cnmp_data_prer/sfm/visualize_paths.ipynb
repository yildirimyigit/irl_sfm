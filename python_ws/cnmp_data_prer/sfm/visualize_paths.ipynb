{
 "cells": [
  {
   "cell_type": "code",
   "execution_count": 41,
   "metadata": {},
   "outputs": [],
   "source": [
    "import numpy as np\n",
    "\n",
    "trajectories_path = '/home/yigit/Documents/projects/irl_sfm/data/demonstrations/sfm/small_env_changing_s_g/headless/'"
   ]
  },
  {
   "cell_type": "code",
   "execution_count": 64,
   "metadata": {},
   "outputs": [
    {
     "data": {
      "image/png": "[encoded data removed]",
      "text/plain": [
       "<Figure size 432x288 with 1 Axes>"
      ]
     },
     "metadata": {
      "needs_background": "light"
     },
     "output_type": "display_data"
    }
   ],
   "source": [
    "import os\n",
    "import matplotlib.pyplot as plt\n",
    "\n",
    "i=0\n",
    "\n",
    "for filename in os.listdir(trajectories_path):\n",
    "    if filename.endswith(\".npy\"):\n",
    "        filepath = os.path.join(trajectories_path, filename)\n",
    "#         print(filepath)\n",
    "        config_str = filename.replace('.npy', '')\n",
    "#         print(config_str)\n",
    "        config = config_str.split('_')\n",
    "        start_x, goal_x, obs_x, obs_y = float(config[0]), float(config[1]), float(config[2]), float(config[3])\n",
    "#         print(start_x, goal_x, obs_x, obs_y)\n",
    "\n",
    "        trajectory = np.load(filepath)\n",
    "        x, y = trajectory[:, -2], trajectory[:, -1]\n",
    "        x, y = x.reshape(len(x), 1), y.reshape(len(y), 1)\n",
    "        \n",
    "        \n",
    "        plt.plot(x, y, \"b.\")\n",
    "        plt.plot(start_x, 0, 'ro')\n",
    "        plt.plot(goal_x, 13, 'ro')\n",
    "        plt.plot(obs_x, obs_y, 'rs', markersize=10)  # 10 is not the actual size of the obstacle\n",
    "        i+=1\n",
    "    else:\n",
    "        continue\n",
    "        \n",
    "#     if i>0:\n",
    "#         break\n",
    "\n",
    "plt.show()\n"
   ]
  },
  {
   "cell_type": "code",
   "execution_count": null,
   "metadata": {},
   "outputs": [],
   "source": []
  }
 ],
 "metadata": {
  "kernelspec": {
   "display_name": "Python 3",
   "language": "python",
   "name": "python3"
  },
  "language_info": {
   "codemirror_mode": {
    "name": "ipython",
    "version": 3
   },
   "file_extension": ".py",
   "mimetype": "text/x-python",
   "name": "python",
   "nbconvert_exporter": "python",
   "pygments_lexer": "ipython3",
   "version": "3.7.7"
  }
 },
 "nbformat": 4,
 "nbformat_minor": 4
}
