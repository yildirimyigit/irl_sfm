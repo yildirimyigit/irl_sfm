{
 "cells": [
  {
   "cell_type": "code",
   "execution_count": 75,
   "metadata": {},
   "outputs": [],
   "source": [
    "import numpy as np\n",
    "import os\n",
    "\n",
    "\n",
    "X, Y, Gamma = {}, {}, {}\n",
    "vX, vY, vGamma = {}, {}, {}\n",
    "novelX, novelY, novelGamma = [], [], []\n",
    "\n",
    "data_path = '/home/yigit/phd/yigit_phd_thesis/cnmp/data/1_person_1_obs/'\n",
    "for folder in os.listdir(data_path):\n",
    "    folder_path = f'{data_path}{folder}'\n",
    "    if folder == '10':\n",
    "        novelX.append(np.load(f'{folder_path}/d_x.npy'))\n",
    "        novelY.append(np.load(f'{folder_path}/d_y.npy'))\n",
    "        novelGamma.append(np.load(f'{folder_path}/d_gamma.npy'))\n",
    "    else:\n",
    "        if os.path.isdir(folder_path):\n",
    "            try:\n",
    "                X.update({int(folder):np.load(f'{folder_path}/d_x.npy')})\n",
    "                Y.update({int(folder):np.load(f'{folder_path}/d_y.npy')})\n",
    "                Gamma.update({int(folder):np.load(f'{folder_path}/d_gamma.npy')})\n",
    "                vX.update({int(folder):np.load(f'{folder_path}/v_d_x.npy')})\n",
    "                vY.update({int(folder):np.load(f'{folder_path}/v_d_y.npy')})\n",
    "                vGamma.update({int(folder):np.load(f'{folder_path}/v_d_gamma.npy')})\n",
    "            except ValueError:\n",
    "                pass"
   ]
  },
  {
   "cell_type": "code",
   "execution_count": 76,
   "metadata": {},
   "outputs": [
    {
     "name": "stdout",
     "output_type": "stream",
     "text": [
      "10\n"
     ]
    }
   ],
   "source": [
    "num_runs = len(vGamma)\n",
    "print(num_runs)"
   ]
  },
  {
   "cell_type": "markdown",
   "metadata": {},
   "source": [
    "We have *num_runs=10* runs in each dictionary. Next, we need to select the same amount of trajectories from each run to balance the data."
   ]
  },
  {
   "cell_type": "code",
   "execution_count": 77,
   "metadata": {},
   "outputs": [
    {
     "name": "stdout",
     "output_type": "stream",
     "text": [
      "0: 17\n"
     ]
    }
   ],
   "source": [
    "min_num_trajs = 100\n",
    "min_id = -1\n",
    "\n",
    "for i in range(num_runs):\n",
    "    if len(Gamma[i]) < min_num_trajs:\n",
    "        min_num_trajs = len(Gamma[i])\n",
    "        min_id = i\n",
    "print(f'{min_id}: {min_num_trajs}')"
   ]
  },
  {
   "cell_type": "markdown",
   "metadata": {},
   "source": [
    "Selecting *min_num_trajs=17* trajectory from X,Y,Gamma of each run"
   ]
  },
  {
   "cell_type": "code",
   "execution_count": 78,
   "metadata": {},
   "outputs": [],
   "source": [
    "for i in range(num_runs):\n",
    "    subset_ids = sorted(np.random.choice(len(Gamma[i]), min_num_trajs, replace=False))\n",
    "    X.update({i:X[i][subset_ids]})\n",
    "    Y.update({i:Y[i][subset_ids]})\n",
    "    Gamma.update({i:Gamma[i][subset_ids]})"
   ]
  },
  {
   "cell_type": "markdown",
   "metadata": {},
   "source": [
    "Doing the same for validation sets"
   ]
  },
  {
   "cell_type": "code",
   "execution_count": 79,
   "metadata": {},
   "outputs": [
    {
     "name": "stdout",
     "output_type": "stream",
     "text": [
      "0: 5\n"
     ]
    }
   ],
   "source": [
    "v_min_num_trajs = 100\n",
    "v_min_id = -1\n",
    "\n",
    "for i in range(num_runs):\n",
    "    if len(vGamma[i]) < v_min_num_trajs:\n",
    "        v_min_num_trajs = len(vGamma[i])\n",
    "        v_min_id = i\n",
    "print(f'{v_min_id}: {v_min_num_trajs}')\n",
    "\n",
    "for i in range(num_runs):\n",
    "    subset_ids = sorted(np.random.choice(len(vGamma[i]), v_min_num_trajs, replace=False))\n",
    "    vX.update({i:vX[i][subset_ids]})\n",
    "    vY.update({i:vY[i][subset_ids]})\n",
    "    vGamma.update({i:vGamma[i][subset_ids]})"
   ]
  },
  {
   "cell_type": "markdown",
   "metadata": {},
   "source": [
    "---\n",
    "Normalizing lengths before saving"
   ]
  },
  {
   "cell_type": "code",
   "execution_count": 80,
   "metadata": {},
   "outputs": [
    {
     "name": "stdout",
     "output_type": "stream",
     "text": [
      "Demonstration min length: 305\n",
      "Validation min length: 305\n"
     ]
    }
   ],
   "source": [
    "min_len_traj = 1000\n",
    "v_min_len_traj = 1000\n",
    "min_id = -1\n",
    "\n",
    "for i in range(num_runs):\n",
    "    for j in range(min_num_trajs):\n",
    "        if len(X[i][j]) < min_len_traj:\n",
    "            min_len_traj = len(X[i][j])\n",
    "        \n",
    "    for j in range(v_min_num_trajs):\n",
    "        if len(vX[i][j]) < v_min_len_traj:\n",
    "            v_min_len_traj = len(vX[i][j])\n",
    "    \n",
    "print(f'Demonstration min length: {min_len_traj}')\n",
    "print(f'Validation min length: {v_min_len_traj}')"
   ]
  },
  {
   "cell_type": "code",
   "execution_count": 81,
   "metadata": {},
   "outputs": [
    {
     "name": "stdout",
     "output_type": "stream",
     "text": [
      "(25, 305, 2)\n"
     ]
    }
   ],
   "source": [
    "for i in range(num_runs):\n",
    "    x, y, gamma = [], [], []\n",
    "    for j in range(min_num_trajs):\n",
    "        ids = sorted(np.random.choice(len(X[i][j]), min_len_traj, replace=False))\n",
    "        x.append(X[i][j][ids])\n",
    "        y.append(Y[i][j][ids])\n",
    "        gamma.append(Gamma[i][j][ids])\n",
    "    X.update({i:np.array(x)})\n",
    "    Y.update({i:np.array(y)})\n",
    "    Gamma.update({i:np.array(gamma)})\n",
    "    \n",
    "    v_x, v_y, v_gamma = [], [], []\n",
    "    for j in range(v_min_num_trajs):\n",
    "        ids = sorted(np.random.choice(len(vX[i][j]), v_min_len_traj, replace=False))\n",
    "        v_x.append(vX[i][j][ids])\n",
    "        v_y.append(vY[i][j][ids])\n",
    "        v_gamma.append(vGamma[i][j][ids])\n",
    "    vX.update({i:np.array(v_x)})\n",
    "    vY.update({i:np.array(v_y)})\n",
    "    vGamma.update({i:np.array(v_gamma)})\n",
    "\n",
    "###\n",
    "\n",
    "novelX = np.reshape(np.array(novelX), (np.shape(novelX)[1], np.shape(novelX)[2], np.shape(novelX)[3]))\n",
    "novelY = np.reshape(np.array(novelY), (np.shape(novelY)[1], np.shape(novelY)[2], np.shape(novelY)[3]))\n",
    "novelGamma = np.reshape(np.array(novelGamma), \n",
    "                        (np.shape(novelGamma)[1], np.shape(novelGamma)[2], np.shape(novelGamma)[3]))\n",
    "\n",
    "x, y, gamma = [], [], []\n",
    "for i in range(np.shape(novelX)[0]):\n",
    "    ids = sorted(np.random.choice(np.shape(novelX)[1], v_min_len_traj, replace=False))\n",
    "    x.append(novelX[i][ids])\n",
    "    y.append(novelY[i][ids])\n",
    "    gamma.append(novelGamma[i][ids])\n",
    "    \n",
    "novelX = np.array(x)\n",
    "novelY = np.array(y)\n",
    "novelGamma = np.array(gamma)\n",
    "\n",
    "print(np.shape(novelX))"
   ]
  },
  {
   "cell_type": "markdown",
   "metadata": {},
   "source": [
    "---\n",
    "Combining and saving all. I'll create 3 versions: \n",
    "1. *combined_1* keeps one traj per run and no validation (for testing purposes)\n",
    "2. *combined_all* keeps all trajectories.\n",
    "3. *novel* keeps 11th run which will be used as the test data"
   ]
  },
  {
   "cell_type": "code",
   "execution_count": 82,
   "metadata": {},
   "outputs": [
    {
     "name": "stdout",
     "output_type": "stream",
     "text": [
      "(10, 17, 305, 2)\n"
     ]
    }
   ],
   "source": [
    "x_dim, y_dim, gamma_dim = 2, 2, 2\n",
    "xarr, yarr, gammaarr = [], [], []\n",
    "\n",
    "for i in range(num_runs):\n",
    "    rand_traj_id = np.random.choice(range(min_num_trajs), 1)\n",
    "    xarr.append(X[i][rand_traj_id].reshape(min_len_traj, x_dim))\n",
    "    yarr.append(Y[i][rand_traj_id].reshape(min_len_traj, y_dim))\n",
    "    gammaarr.append(Gamma[i][rand_traj_id].reshape(min_len_traj, gamma_dim))\n",
    "\n",
    "combined_1_path = f'{data_path}combined_1/'\n",
    "\n",
    "xnp = np.array(xarr)\n",
    "ynp = np.array(yarr)\n",
    "gnp = np.array(gammaarr)\n",
    "\n",
    "np.save(f'{combined_1_path}/d_x.npy', xnp)\n",
    "np.save(f'{combined_1_path}/d_y.npy', ynp)\n",
    "np.save(f'{combined_1_path}/d_gamma.npy', gnp)\n",
    "\n",
    "###################################\n",
    "\n",
    "novel_path = f'{data_path}novel/'\n",
    "np.save(f'{novel_path}/d_x.npy', novelX)\n",
    "np.save(f'{novel_path}/d_y.npy', novelY)\n",
    "np.save(f'{novel_path}/d_gamma.npy', novelGamma)\n",
    "\n",
    "###################################\n",
    "\n",
    "xarr, yarr, gammaarr = [], [], []\n",
    "vxarr, vyarr, vgammaarr = [], [], []\n",
    "\n",
    "for i in range(num_runs):\n",
    "    xarr.append(X[i])\n",
    "    yarr.append(Y[i])\n",
    "    gammaarr.append(Gamma[i])\n",
    "    vxarr.append(vX[i])\n",
    "    vyarr.append(vY[i])\n",
    "    vgammaarr.append(vGamma[i])\n",
    "\n",
    "print(np.shape(np.array(xarr)))\n",
    "# (10, 17, 305, 2)\n",
    "# This shape means for each of 10 runs, we have 17 trajectories of 305 steps where each step contains two dims\n",
    "# Combining them means having shape (10*17, 305, 2)\n",
    "    \n",
    "combined_all_path = f'{data_path}combined_all/'\n",
    "np.save(f'{combined_all_path}/d_x.npy', np.array(xarr).reshape(num_runs*min_num_trajs, min_len_traj, x_dim))\n",
    "np.save(f'{combined_all_path}/d_y.npy', np.array(yarr).reshape(num_runs*min_num_trajs, min_len_traj, y_dim))\n",
    "np.save(f'{combined_all_path}/d_gamma.npy', np.array(gammaarr).reshape(num_runs*min_num_trajs, min_len_traj, gamma_dim))\n",
    "np.save(f'{combined_all_path}/v_d_x.npy', np.array(vxarr).reshape(num_runs*v_min_num_trajs, v_min_len_traj, x_dim))\n",
    "np.save(f'{combined_all_path}/v_d_y.npy', np.array(vyarr).reshape(num_runs*v_min_num_trajs, v_min_len_traj, y_dim))\n",
    "np.save(f'{combined_all_path}/v_d_gamma.npy', np.array(vgammaarr).reshape(num_runs*v_min_num_trajs, v_min_len_traj, gamma_dim))"
   ]
  },
  {
   "cell_type": "code",
   "execution_count": 83,
   "metadata": {},
   "outputs": [
    {
     "data": {
      "text/plain": [
       "[<matplotlib.lines.Line2D at 0x7f18d9ac1ad0>]"
      ]
     },
     "execution_count": 83,
     "metadata": {},
     "output_type": "execute_result"
    },
    {
     "data": {
      "image/png": "[encoded data removed]",
      "text/plain": [
       "<Figure size 1008x864 with 2 Axes>"
      ]
     },
     "metadata": {
      "needs_background": "light"
     },
     "output_type": "display_data"
    }
   ],
   "source": [
    "# check if the data look reasonable\n",
    "import matplotlib.pyplot as plt\n",
    "%matplotlib inline\n",
    "plt.rcParams['figure.figsize'] = [14, 12]\n",
    "fig, axs = plt.subplots(1, 2)\n",
    "axs[0].plot(range(305), xnp[1, :, 0])\n",
    "axs[1].plot(range(305), xnp[1, :, 1])"
   ]
  },
  {
   "cell_type": "code",
   "execution_count": null,
   "metadata": {},
   "outputs": [],
   "source": []
  }
 ],
 "metadata": {
  "kernelspec": {
   "display_name": "Python 3",
   "language": "python",
   "name": "python3"
  },
  "language_info": {
   "codemirror_mode": {
    "name": "ipython",
    "version": 3
   },
   "file_extension": ".py",
   "mimetype": "text/x-python",
   "name": "python",
   "nbconvert_exporter": "python",
   "pygments_lexer": "ipython3",
   "version": "3.7.7"
  }
 },
 "nbformat": 4,
 "nbformat_minor": 4
}
