{
 "cells": [
  {
   "cell_type": "code",
   "execution_count": 2,
   "metadata": {},
   "outputs": [
    {
     "ename": "FileNotFoundError",
     "evalue": "[Errno 2] No such file or directory: '/home/yigit/phd/data/trajnetplusplusdataset/output/train/lcas.ndjson'",
     "output_type": "error",
     "traceback": [
      "\u001b[0;31m---------------------------------------------------------------------------\u001b[0m",
      "\u001b[0;31mFileNotFoundError\u001b[0m                         Traceback (most recent call last)",
      "\u001b[0;32m<ipython-input-2-cf08a8126202>\u001b[0m in \u001b[0;36m<module>\u001b[0;34m\u001b[0m\n\u001b[1;32m      4\u001b[0m \u001b[0mpath\u001b[0m \u001b[0;34m=\u001b[0m \u001b[0;34m'/home/yigit/phd/data/trajnetplusplusdataset/output/train/lcas.ndjson'\u001b[0m\u001b[0;34m\u001b[0m\u001b[0;34m\u001b[0m\u001b[0m\n\u001b[1;32m      5\u001b[0m \u001b[0;34m\u001b[0m\u001b[0m\n\u001b[0;32m----> 6\u001b[0;31m \u001b[0;32mwith\u001b[0m \u001b[0mopen\u001b[0m\u001b[0;34m(\u001b[0m\u001b[0mpath\u001b[0m\u001b[0;34m)\u001b[0m \u001b[0;32mas\u001b[0m \u001b[0mf\u001b[0m\u001b[0;34m:\u001b[0m\u001b[0;34m\u001b[0m\u001b[0;34m\u001b[0m\u001b[0m\n\u001b[0m\u001b[1;32m      7\u001b[0m     \u001b[0mdata\u001b[0m \u001b[0;34m=\u001b[0m \u001b[0mndjson\u001b[0m\u001b[0;34m.\u001b[0m\u001b[0mload\u001b[0m\u001b[0;34m(\u001b[0m\u001b[0mf\u001b[0m\u001b[0;34m)\u001b[0m\u001b[0;34m\u001b[0m\u001b[0;34m\u001b[0m\u001b[0m\n\u001b[1;32m      8\u001b[0m \u001b[0;34m\u001b[0m\u001b[0m\n",
      "\u001b[0;31mFileNotFoundError\u001b[0m: [Errno 2] No such file or directory: '/home/yigit/phd/data/trajnetplusplusdataset/output/train/lcas.ndjson'"
     ]
    }
   ],
   "source": [
    "import ndjson\n",
    "import numpy as np\n",
    "\n",
    "path = '/home/yigit/phd/data/trajnetplusplusdataset/output/train/lcas.ndjson'\n",
    "\n",
    "with open(path) as f:\n",
    "    data = ndjson.load(f)\n",
    "\n",
    "def get_person_track(pid):\n",
    "    x, y = [], []\n",
    "    for line in data:\n",
    "        try:\n",
    "            track = line['track']\n",
    "            if int(track['p']) == pid:\n",
    "                x.append(track['x'])\n",
    "                y.append(track['y'])\n",
    "        except Exception as e:\n",
    "            pass\n",
    "    return np.array(x).reshape(-1, 1), np.array(y).reshape(-1, 1)\n"
   ]
  },
  {
   "cell_type": "code",
   "execution_count": null,
   "metadata": {},
   "outputs": [],
   "source": [
    "import matplotlib.pyplot as plt\n",
    "%matplotlib inline\n",
    "plt.rcParams['figure.figsize'] = [14, 8]\n",
    "\n",
    "xs, ys = [], []\n",
    "num_people = 0\n",
    "\n",
    "for pid in range(588,941):\n",
    "    x, y = get_person_track(pid)\n",
    "    if len(x) < 5:  # choose paths longer than 5 steps\n",
    "        continue\n",
    "    else:\n",
    "        xs.append(x)\n",
    "        ys.append(y)\n",
    "        num_people += 1"
   ]
  },
  {
   "cell_type": "code",
   "execution_count": null,
   "metadata": {},
   "outputs": [],
   "source": [
    "for i in range(num_people):\n",
    "    x, y = xs[i], ys[i]\n",
    "    plt.plot(x, y)\n",
    "plt.title('All Paths')\n",
    "plt.xlabel('x position')\n",
    "plt.ylabel('y position')\n",
    "plt.show()"
   ]
  },
  {
   "cell_type": "code",
   "execution_count": null,
   "metadata": {},
   "outputs": [],
   "source": [
    "ee_xs, ee_ys = [], []\n",
    "\n",
    "for i in range(num_people):\n",
    "    x, y = xs[i], ys[i]\n",
    "    eligible = False\n",
    "    for step in range(len(x)):\n",
    "        # a set of paths with the following properties seem eligible as demonstrations\n",
    "        if -25 < x[step] < -10 and -5 <= y[step] <= -0:\n",
    "            for step2 in range(len(x)):\n",
    "                if 10 < x[step2] < 20:\n",
    "                    eligible = True\n",
    "                    break\n",
    "    if eligible:\n",
    "        plt.plot(x, y, label=str(i))\n",
    "        ee_xs.append(x)\n",
    "        ee_ys.append(y)\n",
    "plt.plot([0], [0], 'ko')\n",
    "plt.title('Demonstrations')\n",
    "plt.xlabel('x position')\n",
    "plt.ylabel('y position')\n",
    "plt.legend()\n",
    "plt.show()"
   ]
  },
  {
   "cell_type": "markdown",
   "metadata": {},
   "source": [
    "#### Filtering out some"
   ]
  },
  {
   "cell_type": "code",
   "execution_count": null,
   "metadata": {},
   "outputs": [],
   "source": [
    "e_xs, e_ys = [], []\n",
    "for i in range(len(ee_xs)):\n",
    "    eligible = True\n",
    "    x, y = ee_xs[i], ee_ys[i]\n",
    "    for step in range(len(x)):\n",
    "        if (10 < x[step] < 20) and ((y[step] <= -1.5) or (y[step] > 4)):\n",
    "            eligible = False\n",
    "            break\n",
    "    if eligible:\n",
    "        plt.plot(x, y, label=str(i))\n",
    "        e_xs.append(x)\n",
    "        e_ys.append(y)\n",
    "plt.plot([0], [0], 'ko')\n",
    "plt.title('Demonstrations')\n",
    "plt.xlabel('x position')\n",
    "plt.ylabel('y position')\n",
    "plt.legend()\n",
    "plt.show()"
   ]
  },
  {
   "cell_type": "code",
   "execution_count": null,
   "metadata": {},
   "outputs": [],
   "source": [
    "# normalizing demonstration lengths\n",
    "# first clipping along x\n",
    "\n",
    "# max of min_x's and min of max_x's are the limits\n",
    "minx, maxx = -1000000, 1000000\n",
    "for i in range(len(e_xs)):\n",
    "    cur_min = np.min(e_xs[i])\n",
    "    cur_max = np.max(e_xs[i])\n",
    "    minx = cur_min if cur_min > minx else minx\n",
    "    maxx = cur_max if cur_max < maxx else maxx\n",
    "\n",
    "for i in range(len(e_xs)):\n",
    "    clipped_indices = np.where(np.logical_and((minx <= e_xs[i]), (e_xs[i] <= maxx)))\n",
    "    e_xs[i] = e_xs[i][clipped_indices]\n",
    "    e_ys[i] = e_ys[i][clipped_indices]"
   ]
  },
  {
   "cell_type": "code",
   "execution_count": null,
   "metadata": {},
   "outputs": [],
   "source": [
    "from scipy import interpolate\n",
    "\n",
    "xs = np.linspace(start=minx, stop=maxx, num=200)\n",
    "d_xs, d_ys = [], []\n",
    "\n",
    "for i in range(len(e_xs)):\n",
    "    f = interpolate.interp1d(e_xs[i], e_ys[i], kind='cubic', fill_value=\"extrapolate\")\n",
    "    d_ys.append(f(xs))\n",
    "    \n",
    "xs = ((xs) / (maxx - minx)) * 2  # normalizing x vals\n",
    "\n",
    "for i in range(len(d_ys)):\n",
    "    d_xs.append(xs)\n",
    "    plt.plot(d_xs[i], d_ys[i], label=str(i))\n",
    "\n",
    "plt.plot([0], [0], 'ko', label = 'robot')  # robot as a point\n",
    "plt.title('Demonstrations')\n",
    "plt.xlabel('x position')\n",
    "plt.ylabel('y position')\n",
    "plt.text(-1, 2.1, 'path length: '+str(200))\n",
    "plt.legend(loc='lower right')\n",
    "plt.show()"
   ]
  },
  {
   "cell_type": "markdown",
   "metadata": {},
   "source": [
    "#### Info on data"
   ]
  },
  {
   "cell_type": "code",
   "execution_count": null,
   "metadata": {},
   "outputs": [],
   "source": [
    "print(f'x_demonstrations_shape={np.array(d_xs).shape}')\n",
    "print(f'y_demonstrations_shape={np.array(d_ys).shape}')"
   ]
  },
  {
   "cell_type": "code",
   "execution_count": null,
   "metadata": {},
   "outputs": [],
   "source": [
    "data_path = '/home/yigit/phd/yigit_phd_thesis/cnmp/data/'\n",
    "\n",
    "# reshaping to meet CNMP requirements\n",
    "d_xs = np.array(d_xs).reshape((np.shape(d_xs)[0], np.shape(d_xs)[1], 1))\n",
    "d_ys = np.array(d_ys).reshape((np.shape(d_ys)[0], np.shape(d_ys)[1], 1))\n",
    "\n",
    "# saving last 2 for validation and the rest for training\n",
    "np.save(data_path+'d_x.npy', np.array(d_xs[:-2]))\n",
    "np.save(data_path+'d_y.npy', np.array(d_ys[:-2]))\n",
    "np.save(data_path+'v_d_x.npy', np.array(d_xs[-2:]))\n",
    "np.save(data_path+'v_d_y.npy', np.array(d_ys[-2:]))"
   ]
  },
  {
   "cell_type": "code",
   "execution_count": null,
   "metadata": {},
   "outputs": [],
   "source": []
  }
 ],
 "metadata": {
  "kernelspec": {
   "display_name": "Python 3",
   "language": "python",
   "name": "python3"
  },
  "language_info": {
   "codemirror_mode": {
    "name": "ipython",
    "version": 3
   },
   "file_extension": ".py",
   "mimetype": "text/x-python",
   "name": "python",
   "nbconvert_exporter": "python",
   "pygments_lexer": "ipython3",
   "version": "3.7.7"
  }
 },
 "nbformat": 4,
 "nbformat_minor": 4
}
